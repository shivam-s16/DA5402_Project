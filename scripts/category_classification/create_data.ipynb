{
 "cells": [
  {
   "cell_type": "code",
   "execution_count": 1,
   "id": "7fb4399a",
   "metadata": {},
   "outputs": [
    {
     "name": "stderr",
     "output_type": "stream",
     "text": [
      "2025-04-28 03:40:14.660311: I tensorflow/core/util/port.cc:153] oneDNN custom operations are on. You may see slightly different numerical results due to floating-point round-off errors from different computation orders. To turn them off, set the environment variable `TF_ENABLE_ONEDNN_OPTS=0`.\n",
      "2025-04-28 03:40:15.102666: E external/local_xla/xla/stream_executor/cuda/cuda_fft.cc:467] Unable to register cuFFT factory: Attempting to register factory for plugin cuFFT when one has already been registered\n",
      "WARNING: All log messages before absl::InitializeLog() is called are written to STDERR\n",
      "E0000 00:00:1745811615.301789  292590 cuda_dnn.cc:8579] Unable to register cuDNN factory: Attempting to register factory for plugin cuDNN when one has already been registered\n",
      "E0000 00:00:1745811615.368685  292590 cuda_blas.cc:1407] Unable to register cuBLAS factory: Attempting to register factory for plugin cuBLAS when one has already been registered\n",
      "W0000 00:00:1745811615.613772  292590 computation_placer.cc:177] computation placer already registered. Please check linkage and avoid linking the same target more than once.\n",
      "W0000 00:00:1745811615.614004  292590 computation_placer.cc:177] computation placer already registered. Please check linkage and avoid linking the same target more than once.\n",
      "W0000 00:00:1745811615.614009  292590 computation_placer.cc:177] computation placer already registered. Please check linkage and avoid linking the same target more than once.\n",
      "W0000 00:00:1745811615.614011  292590 computation_placer.cc:177] computation placer already registered. Please check linkage and avoid linking the same target more than once.\n",
      "2025-04-28 03:40:15.662342: I tensorflow/core/platform/cpu_feature_guard.cc:210] This TensorFlow binary is optimized to use available CPU instructions in performance-critical operations.\n",
      "To enable the following instructions: AVX2 AVX512F AVX512_VNNI AVX512_BF16 FMA, in other operations, rebuild TensorFlow with the appropriate compiler flags.\n",
      "/root/miniconda3/envs/mlops/lib/python3.12/site-packages/tqdm/auto.py:21: TqdmWarning: IProgress not found. Please update jupyter and ipywidgets. See https://ipywidgets.readthedocs.io/en/stable/user_install.html\n",
      "  from .autonotebook import tqdm as notebook_tqdm\n"
     ]
    }
   ],
   "source": [
    "import argparse\n",
    "import os\n",
    "import pandas as pd\n",
    "import numpy as np\n",
    "import json\n",
    "import pickle\n",
    "import tensorflow as tf\n",
    "from sklearn.utils import resample\n",
    "from sklearn.model_selection import train_test_split\n",
    "from sklearn.ensemble import RandomForestClassifier\n",
    "from sklearn.linear_model import LogisticRegression\n",
    "from sklearn.metrics import accuracy_score, f1_score, precision_score, recall_score\n",
    "from sentence_transformers import SentenceTransformer\n",
    "from tensorflow.keras.callbacks import Callback, EarlyStopping\n",
    "from tensorflow.keras.models import Sequential\n",
    "from tensorflow.keras.layers import Dense, LSTM, Embedding, Input, Dropout, Bidirectional, BatchNormalization\n",
    "from tensorflow.keras.preprocessing.text import Tokenizer\n",
    "from tensorflow.keras.preprocessing.sequence import pad_sequences\n",
    "from tensorflow.keras.optimizers import Adam\n",
    "from sklearn.metrics import confusion_matrix\n",
    "import matplotlib.pyplot as plt\n",
    "import seaborn as sns\n",
    "import joblib\n"
   ]
  },
  {
   "cell_type": "code",
   "execution_count": 2,
   "id": "baebe7d2",
   "metadata": {},
   "outputs": [],
   "source": [
    "def embed_text(texts, model_name):\n",
    "    \"\"\"Generate embeddings using a pre-trained Sentence Transformer model.\"\"\"\n",
    "    print(f\"Generating embeddings using {model_name}...\")\n",
    "    model = SentenceTransformer(model_name)\n",
    "    embeddings = model.encode(texts, show_progress_bar=True)\n",
    "    return embeddings\n",
    "\n",
    "def prepare_text_features(df, use_short_description=False):\n",
    "    \"\"\"Prepare text features from the dataframe.\"\"\"\n",
    "    if use_short_description:\n",
    "        # Combine headline and short_description\n",
    "        texts = df['headline'] + \" \" + df['short_description'].fillna(\"\")\n",
    "    else:\n",
    "        texts = df['headline']\n",
    "    \n",
    "    return texts.tolist(), df['category'].values"
   ]
  },
  {
   "cell_type": "code",
   "execution_count": 3,
   "id": "fcc6e91a",
   "metadata": {},
   "outputs": [],
   "source": [
    "data_path = '/home/ubuntu/SentimentProject/DA5402_Project/data/category_classification/category_csv/complete_data.csv'\n",
    "\n",
    "df = pd.read_csv(data_path)"
   ]
  },
  {
   "cell_type": "code",
   "execution_count": 4,
   "id": "8013c9ea",
   "metadata": {},
   "outputs": [
    {
     "data": {
      "text/html": [
       "<div>\n",
       "<style scoped>\n",
       "    .dataframe tbody tr th:only-of-type {\n",
       "        vertical-align: middle;\n",
       "    }\n",
       "\n",
       "    .dataframe tbody tr th {\n",
       "        vertical-align: top;\n",
       "    }\n",
       "\n",
       "    .dataframe thead th {\n",
       "        text-align: right;\n",
       "    }\n",
       "</style>\n",
       "<table border=\"1\" class=\"dataframe\">\n",
       "  <thead>\n",
       "    <tr style=\"text-align: right;\">\n",
       "      <th></th>\n",
       "      <th>link</th>\n",
       "      <th>headline</th>\n",
       "      <th>category</th>\n",
       "      <th>short_description</th>\n",
       "      <th>authors</th>\n",
       "      <th>date</th>\n",
       "    </tr>\n",
       "  </thead>\n",
       "  <tbody>\n",
       "    <tr>\n",
       "      <th>0</th>\n",
       "      <td>https://www.huffpost.com/entry/covid-boosters-...</td>\n",
       "      <td>Over 4 Million Americans Roll Up Sleeves For O...</td>\n",
       "      <td>U.S. NEWS</td>\n",
       "      <td>Health experts said it is too early to predict...</td>\n",
       "      <td>Carla K. Johnson, AP</td>\n",
       "      <td>2022-09-23</td>\n",
       "    </tr>\n",
       "    <tr>\n",
       "      <th>1</th>\n",
       "      <td>https://www.huffpost.com/entry/american-airlin...</td>\n",
       "      <td>American Airlines Flyer Charged, Banned For Li...</td>\n",
       "      <td>U.S. NEWS</td>\n",
       "      <td>He was subdued by passengers and crew when he ...</td>\n",
       "      <td>Mary Papenfuss</td>\n",
       "      <td>2022-09-23</td>\n",
       "    </tr>\n",
       "    <tr>\n",
       "      <th>2</th>\n",
       "      <td>https://www.huffpost.com/entry/funniest-tweets...</td>\n",
       "      <td>23 Of The Funniest Tweets About Cats And Dogs ...</td>\n",
       "      <td>COMEDY</td>\n",
       "      <td>\"Until you have a dog you don't understand wha...</td>\n",
       "      <td>Elyse Wanshel</td>\n",
       "      <td>2022-09-23</td>\n",
       "    </tr>\n",
       "    <tr>\n",
       "      <th>3</th>\n",
       "      <td>https://www.huffpost.com/entry/funniest-parent...</td>\n",
       "      <td>The Funniest Tweets From Parents This Week (Se...</td>\n",
       "      <td>PARENTING</td>\n",
       "      <td>\"Accidentally put grown-up toothpaste on my to...</td>\n",
       "      <td>Caroline Bologna</td>\n",
       "      <td>2022-09-23</td>\n",
       "    </tr>\n",
       "    <tr>\n",
       "      <th>4</th>\n",
       "      <td>https://www.huffpost.com/entry/amy-cooper-lose...</td>\n",
       "      <td>Woman Who Called Cops On Black Bird-Watcher Lo...</td>\n",
       "      <td>U.S. NEWS</td>\n",
       "      <td>Amy Cooper accused investment firm Franklin Te...</td>\n",
       "      <td>Nina Golgowski</td>\n",
       "      <td>2022-09-22</td>\n",
       "    </tr>\n",
       "  </tbody>\n",
       "</table>\n",
       "</div>"
      ],
      "text/plain": [
       "                                                link  \\\n",
       "0  https://www.huffpost.com/entry/covid-boosters-...   \n",
       "1  https://www.huffpost.com/entry/american-airlin...   \n",
       "2  https://www.huffpost.com/entry/funniest-tweets...   \n",
       "3  https://www.huffpost.com/entry/funniest-parent...   \n",
       "4  https://www.huffpost.com/entry/amy-cooper-lose...   \n",
       "\n",
       "                                            headline   category  \\\n",
       "0  Over 4 Million Americans Roll Up Sleeves For O...  U.S. NEWS   \n",
       "1  American Airlines Flyer Charged, Banned For Li...  U.S. NEWS   \n",
       "2  23 Of The Funniest Tweets About Cats And Dogs ...     COMEDY   \n",
       "3  The Funniest Tweets From Parents This Week (Se...  PARENTING   \n",
       "4  Woman Who Called Cops On Black Bird-Watcher Lo...  U.S. NEWS   \n",
       "\n",
       "                                   short_description               authors  \\\n",
       "0  Health experts said it is too early to predict...  Carla K. Johnson, AP   \n",
       "1  He was subdued by passengers and crew when he ...        Mary Papenfuss   \n",
       "2  \"Until you have a dog you don't understand wha...         Elyse Wanshel   \n",
       "3  \"Accidentally put grown-up toothpaste on my to...      Caroline Bologna   \n",
       "4  Amy Cooper accused investment firm Franklin Te...        Nina Golgowski   \n",
       "\n",
       "         date  \n",
       "0  2022-09-23  \n",
       "1  2022-09-23  \n",
       "2  2022-09-23  \n",
       "3  2022-09-23  \n",
       "4  2022-09-22  "
      ]
     },
     "execution_count": 4,
     "metadata": {},
     "output_type": "execute_result"
    }
   ],
   "source": [
    "df.head()"
   ]
  },
  {
   "cell_type": "code",
   "execution_count": 5,
   "id": "5d869c43",
   "metadata": {},
   "outputs": [
    {
     "data": {
      "text/html": [
       "<div>\n",
       "<style scoped>\n",
       "    .dataframe tbody tr th:only-of-type {\n",
       "        vertical-align: middle;\n",
       "    }\n",
       "\n",
       "    .dataframe tbody tr th {\n",
       "        vertical-align: top;\n",
       "    }\n",
       "\n",
       "    .dataframe thead th {\n",
       "        text-align: right;\n",
       "    }\n",
       "</style>\n",
       "<table border=\"1\" class=\"dataframe\">\n",
       "  <thead>\n",
       "    <tr style=\"text-align: right;\">\n",
       "      <th></th>\n",
       "      <th>headline</th>\n",
       "      <th>category</th>\n",
       "      <th>short_description</th>\n",
       "    </tr>\n",
       "  </thead>\n",
       "  <tbody>\n",
       "    <tr>\n",
       "      <th>0</th>\n",
       "      <td>Over 4 Million Americans Roll Up Sleeves For O...</td>\n",
       "      <td>U.S. NEWS</td>\n",
       "      <td>Health experts said it is too early to predict...</td>\n",
       "    </tr>\n",
       "    <tr>\n",
       "      <th>1</th>\n",
       "      <td>American Airlines Flyer Charged, Banned For Li...</td>\n",
       "      <td>U.S. NEWS</td>\n",
       "      <td>He was subdued by passengers and crew when he ...</td>\n",
       "    </tr>\n",
       "    <tr>\n",
       "      <th>2</th>\n",
       "      <td>23 Of The Funniest Tweets About Cats And Dogs ...</td>\n",
       "      <td>COMEDY</td>\n",
       "      <td>\"Until you have a dog you don't understand wha...</td>\n",
       "    </tr>\n",
       "    <tr>\n",
       "      <th>3</th>\n",
       "      <td>The Funniest Tweets From Parents This Week (Se...</td>\n",
       "      <td>PARENTING</td>\n",
       "      <td>\"Accidentally put grown-up toothpaste on my to...</td>\n",
       "    </tr>\n",
       "    <tr>\n",
       "      <th>4</th>\n",
       "      <td>Woman Who Called Cops On Black Bird-Watcher Lo...</td>\n",
       "      <td>U.S. NEWS</td>\n",
       "      <td>Amy Cooper accused investment firm Franklin Te...</td>\n",
       "    </tr>\n",
       "  </tbody>\n",
       "</table>\n",
       "</div>"
      ],
      "text/plain": [
       "                                            headline   category  \\\n",
       "0  Over 4 Million Americans Roll Up Sleeves For O...  U.S. NEWS   \n",
       "1  American Airlines Flyer Charged, Banned For Li...  U.S. NEWS   \n",
       "2  23 Of The Funniest Tweets About Cats And Dogs ...     COMEDY   \n",
       "3  The Funniest Tweets From Parents This Week (Se...  PARENTING   \n",
       "4  Woman Who Called Cops On Black Bird-Watcher Lo...  U.S. NEWS   \n",
       "\n",
       "                                   short_description  \n",
       "0  Health experts said it is too early to predict...  \n",
       "1  He was subdued by passengers and crew when he ...  \n",
       "2  \"Until you have a dog you don't understand wha...  \n",
       "3  \"Accidentally put grown-up toothpaste on my to...  \n",
       "4  Amy Cooper accused investment firm Franklin Te...  "
      ]
     },
     "execution_count": 5,
     "metadata": {},
     "output_type": "execute_result"
    }
   ],
   "source": [
    "df.drop(['link', 'date', 'authors'], axis=1, inplace=True)\n",
    "df.head()"
   ]
  },
  {
   "cell_type": "code",
   "execution_count": 6,
   "id": "c05f7d1d",
   "metadata": {},
   "outputs": [
    {
     "data": {
      "text/plain": [
       "(['Over 4 Million Americans Roll Up Sleeves For Omicron-Targeted COVID Boosters',\n",
       "  'American Airlines Flyer Charged, Banned For Life After Punching Flight Attendant On Video'],\n",
       " array(['U.S. NEWS', 'U.S. NEWS'], dtype=object))"
      ]
     },
     "execution_count": 6,
     "metadata": {},
     "output_type": "execute_result"
    }
   ],
   "source": [
    "texts, category = prepare_text_features(df)\n",
    "texts[:2], category[:2]"
   ]
  },
  {
   "cell_type": "code",
   "execution_count": 7,
   "id": "b8a4221f",
   "metadata": {},
   "outputs": [
    {
     "name": "stdout",
     "output_type": "stream",
     "text": [
      "Generating embeddings using all-MiniLM-L6-v2...\n"
     ]
    },
    {
     "name": "stderr",
     "output_type": "stream",
     "text": [
      "Batches: 100%|██████████| 6548/6548 [02:33<00:00, 42.78it/s]\n"
     ]
    },
    {
     "name": "stdout",
     "output_type": "stream",
     "text": [
      "[[-3.41089666e-02  9.91281196e-02 -7.52788857e-02 -1.15467906e-02\n",
      "   6.00800030e-02 -4.27349359e-02  1.13641676e-02  1.05969608e-01\n",
      "  -3.40073518e-02 -2.75691506e-02 -1.54415136e-02  1.93908829e-02\n",
      "  -4.46778722e-03  3.74372974e-02  2.82978397e-02  5.61935715e-02\n",
      "   3.37446146e-02 -1.24953808e-02  2.09627990e-02  2.08215620e-02\n",
      "  -5.77472374e-02 -1.37316100e-02  5.47243804e-02  6.28399625e-02\n",
      "  -4.72335964e-02 -2.82013360e-02 -7.59805590e-02  1.80630423e-02\n",
      "   1.81770455e-02 -8.81924853e-03 -1.03362938e-02 -3.98095548e-02\n",
      "  -1.48401381e-02  4.98954169e-02 -5.90856373e-02 -2.55721640e-02\n",
      "   2.17398535e-02 -3.29798348e-02 -7.66109899e-02  1.18269417e-02\n",
      "   1.16666846e-01 -2.79738568e-02 -2.21716706e-02  2.71492377e-02\n",
      "   5.25691919e-02  2.61019939e-03 -6.92779720e-02  9.83793288e-02\n",
      "  -1.58369597e-02  3.59982699e-02  2.08804403e-02  1.23132616e-02\n",
      "   2.66551077e-02 -4.76788133e-02 -2.09531710e-02 -2.38097291e-02\n",
      "  -4.88777757e-02 -1.02558978e-01  3.92592102e-02  1.38727045e-02\n",
      "  -1.37357749e-02 -3.38270999e-02 -1.85833108e-02  4.54613827e-02\n",
      "  -4.10729460e-02 -1.44933499e-02 -4.05007927e-03  2.11923849e-02\n",
      "   2.12403312e-02  5.52122556e-02  3.10408231e-03  2.17475486e-03\n",
      "  -1.39819412e-02  1.15241222e-01  3.63984406e-02  9.36773717e-02\n",
      "   1.86073482e-02  3.02259382e-02  5.92869036e-02  6.26092032e-02\n",
      "   9.79972631e-03 -2.41570678e-02  2.62806341e-02  7.07430486e-03\n",
      "   2.85470039e-02  3.55733037e-02 -2.47615166e-02  6.11117557e-02\n",
      "   3.16554680e-03 -1.36048915e-02 -1.70939863e-02 -3.01012453e-02\n",
      "   9.68773663e-02  6.09253943e-02 -7.22117275e-02  4.27873693e-02\n",
      "   1.89862940e-02 -3.09443846e-02 -1.02700911e-01  5.69659546e-02\n",
      "  -2.12489441e-02 -4.33833636e-02  1.51807638e-02  8.50246698e-02\n",
      "  -8.78498182e-02 -5.59298284e-02 -2.33476441e-02  5.71932197e-02\n",
      "  -1.78765766e-02 -1.23732528e-02  5.00408597e-02  1.58110056e-02\n",
      "  -3.10641676e-02 -2.56245676e-02 -1.03651419e-01 -4.48544230e-03\n",
      "  -1.39083220e-02 -4.22220156e-02  2.29162220e-02 -3.34074982e-02\n",
      "   1.27435913e-02  2.57191863e-02  9.00146738e-03 -9.75572038e-03\n",
      "  -1.09859081e-02 -1.81171894e-02  8.03356618e-03  9.53546048e-34\n",
      "   3.75557728e-02  1.43978419e-02  7.11928532e-02  4.84487340e-02\n",
      "  -8.79719406e-02  3.58175673e-03  2.73991702e-03 -2.62728333e-02\n",
      "   5.92074171e-02  1.01125417e-02 -5.78568317e-02  4.42515612e-02\n",
      "   2.89119873e-02  1.78414837e-01  1.45191904e-02 -1.03613958e-01\n",
      "   1.20923435e-02  6.34461194e-02 -2.53454987e-02  1.76971201e-02\n",
      "   5.67280129e-02 -9.74613504e-05  3.19412686e-02  4.69006263e-02\n",
      "  -7.82468915e-03  5.33313714e-02 -1.24618746e-01  2.25731842e-02\n",
      "  -3.46725667e-03  4.17159162e-02  1.86716616e-02 -1.74705386e-02\n",
      "   3.36937979e-02 -3.31969745e-02 -3.51338238e-02  2.98396163e-02\n",
      "  -6.18765615e-02 -8.36560279e-02 -1.51748653e-03  5.14273606e-02\n",
      "   4.95624915e-02  1.20633624e-01  2.01932583e-02 -4.00185511e-02\n",
      "   2.21670559e-03 -1.50569342e-02  3.08391470e-02 -2.06527188e-02\n",
      "  -7.85079822e-02  5.58652682e-03 -6.88274279e-02  8.24024677e-02\n",
      "  -9.78716388e-02  2.06390768e-02 -5.21021895e-02  1.04530370e-02\n",
      "   7.44748674e-03 -1.83466375e-02  1.11069672e-01 -5.78727163e-02\n",
      "  -2.11120509e-02  2.36951821e-02 -2.27621738e-02  8.77640489e-03\n",
      "  -6.68216795e-02  2.97036115e-02  4.96052727e-02 -2.48644445e-02\n",
      "  -1.34439662e-01  8.23699161e-02  1.21168233e-01 -4.05314639e-02\n",
      "  -4.03616130e-02 -3.43126059e-02  1.04797934e-03  2.89347712e-02\n",
      "   3.31106186e-02  6.49606138e-02  7.32377470e-02 -9.45693031e-02\n",
      "  -1.08386036e-02 -2.82574389e-02  3.58239636e-02 -1.18700173e-02\n",
      "   7.03944042e-02  4.16668579e-02 -5.65267317e-02 -5.87328011e-03\n",
      "  -5.40546030e-02  6.26363978e-03 -3.22461389e-02  2.62228940e-02\n",
      "   7.26566538e-02 -1.73920654e-02 -6.37599826e-02 -2.17332063e-33\n",
      "  -1.94355510e-02 -3.27112488e-02  6.93319589e-02 -3.39033790e-02\n",
      "   5.45963757e-02  7.08125383e-02 -1.03527205e-02 -1.51358712e-02\n",
      "   7.78038753e-03  2.28321739e-02  8.86085164e-03  5.57667986e-02\n",
      "   3.34359556e-02  5.24382293e-02  2.05489267e-02 -2.08576545e-02\n",
      "   2.60087792e-02  5.75535223e-02 -3.22804563e-02 -1.80195477e-02\n",
      "   3.51645164e-02 -1.87055580e-02 -1.46776643e-02  3.48750614e-02\n",
      "   4.58129070e-04 -7.43405288e-03  5.97451739e-02 -5.78785725e-02\n",
      "   3.86159755e-02 -5.27167544e-02 -6.25466555e-02 -1.61140617e-02\n",
      "  -3.88987921e-02  7.25500435e-02  7.87914172e-03  9.02429782e-03\n",
      "   6.48878515e-02  7.02322721e-02 -5.03692892e-04 -1.20530598e-01\n",
      "  -1.88573897e-02 -1.55108413e-02 -3.79858017e-02 -1.81239266e-02\n",
      "  -3.07883713e-02  5.06440438e-02 -4.42136563e-02  1.83974337e-02\n",
      "   2.39411369e-02  6.92118257e-02 -1.07995704e-01  1.08171310e-02\n",
      "  -8.50421935e-03  3.01283542e-02 -1.40695870e-01 -2.52387784e-02\n",
      "   4.45700176e-02 -4.78257835e-02 -1.61623936e-02 -7.43913576e-02\n",
      "  -2.64591575e-02  4.04051039e-03 -6.78004399e-02 -6.21089675e-02\n",
      "   2.03166660e-02 -3.73211019e-02  2.17545573e-02  4.77964804e-02\n",
      "  -1.21886924e-01 -5.78275621e-02 -2.01332811e-02 -4.72042635e-02\n",
      "  -8.44283476e-02 -9.02916044e-02 -9.59850103e-02  2.42296569e-02\n",
      "  -1.05402404e-02 -6.45881221e-02  1.07225247e-01  2.37058918e-03\n",
      "  -7.24878982e-02 -1.26329601e-01 -1.61436759e-02 -3.93902175e-02\n",
      "   4.78928573e-02  1.20070931e-02  7.99802914e-02 -4.09151092e-02\n",
      "  -1.39360242e-02  1.02522761e-01 -8.21341574e-02 -8.86621128e-04\n",
      "  -3.10207214e-02  1.77896656e-02 -9.31255333e-03 -2.13358966e-08\n",
      "   6.91517368e-02  3.00360266e-02 -2.98480745e-02  7.67708123e-02\n",
      "  -8.07126164e-02  1.35359839e-02 -1.01700842e-01  5.14360890e-02\n",
      "   5.03869280e-02 -1.29977707e-02  9.56344530e-02  5.12253456e-02\n",
      "   3.56920585e-02 -1.69903636e-02 -2.15782318e-02 -2.07311418e-02\n",
      "  -4.85419221e-02  5.72232120e-02 -4.68903631e-02 -3.21555212e-02\n",
      "  -3.73454019e-02  5.67490011e-02  1.14694640e-01 -1.51892919e-02\n",
      "  -1.06520923e-02  3.80816311e-02  8.96157045e-03  1.38777681e-02\n",
      "   4.11613062e-02 -6.15675971e-02 -7.30326623e-02 -3.32517363e-02\n",
      "  -3.03823352e-02  2.40211003e-02  6.30347207e-02  1.51770525e-02\n",
      "   4.57192287e-02 -3.59834619e-02  5.15162833e-02  5.94763570e-02\n",
      "   4.13715057e-02 -1.02457844e-01 -1.09503148e-02  2.62021180e-02\n",
      "  -4.84968759e-02  3.80028076e-02 -1.03365928e-01  2.08570212e-02\n",
      "  -8.99061933e-02 -2.84238327e-02  2.85790078e-02 -3.75059582e-02\n",
      "  -3.57984751e-02  4.27951925e-02 -5.21556735e-02 -4.18928117e-02\n",
      "  -4.18207236e-02 -6.25871792e-02  3.57328616e-02 -3.97524470e-03\n",
      "   7.69068599e-02 -1.09703213e-01  2.65590362e-02  7.38939047e-02]\n",
      " [ 3.63726355e-02  2.80145067e-03 -5.61974198e-02 -2.32020393e-03\n",
      "   9.24544036e-02  8.68675932e-02  6.07861392e-02 -4.60099652e-02\n",
      "   4.15687375e-02  6.89553395e-02  1.30209729e-01  1.32939691e-04\n",
      "  -3.97538655e-02  9.72535908e-02 -6.70628622e-02 -1.96634866e-02\n",
      "   2.60816328e-02 -3.07372287e-02 -1.12671323e-01  2.33981889e-02\n",
      "   7.17840642e-02  5.81689551e-02 -5.39385248e-03  1.01540238e-01\n",
      "  -4.21047173e-02  2.67612338e-02 -6.92017144e-04  4.11187895e-02\n",
      "   3.35224643e-02 -1.69682465e-02  6.86197402e-03 -7.12372065e-02\n",
      "  -2.05875214e-04  2.78407931e-02 -4.30827700e-02 -5.34693263e-02\n",
      "   3.94575447e-02 -6.12967163e-02 -4.40195948e-02 -1.01453632e-01\n",
      "   5.38882741e-04  2.33552814e-03  6.00332879e-02 -5.37791960e-02\n",
      "  -2.03931984e-02  1.18787382e-02  2.25940645e-02 -6.73983886e-04\n",
      "   2.44829431e-02  5.77612035e-02  3.19846929e-03 -1.67134032e-02\n",
      "   4.62356992e-02 -6.43677041e-02  1.68560054e-02 -7.07974061e-02\n",
      "   4.28616032e-02  1.55469561e-02  5.90919405e-02 -3.15999566e-03\n",
      "  -4.01811004e-02  1.00913299e-02  6.84590638e-02  7.59429708e-02\n",
      "  -1.14055477e-01 -3.77721176e-03 -1.41973151e-02 -6.80371746e-02\n",
      "   7.56863728e-02  2.68963147e-02 -6.03995547e-02  1.36478581e-02\n",
      "  -4.66620810e-02  7.83415511e-02  4.28392142e-02  7.78105631e-02\n",
      "   3.54668610e-02 -4.64635007e-02  8.53004213e-03  8.35135672e-03\n",
      "   1.04957014e-01 -9.64238644e-02 -4.91442606e-02  3.99939902e-02\n",
      "   2.92173978e-02 -7.31756119e-03 -5.12442216e-02  2.04115193e-02\n",
      "  -1.98547971e-02  2.37563550e-02 -1.98262259e-02  6.86309934e-02\n",
      "   1.40848488e-01 -4.69619632e-02 -6.05260171e-02 -3.47797088e-02\n",
      "  -7.24204853e-02 -5.55259101e-02 -6.88879639e-02  6.71701273e-03\n",
      "  -7.47430604e-03  2.71199029e-02  1.46464324e-02  5.52355498e-02\n",
      "   6.54203072e-02  1.63809098e-02  5.91504574e-02 -5.44910468e-02\n",
      "  -5.55212349e-02 -3.23861907e-03 -6.25993609e-02  5.27336150e-02\n",
      "   2.04010662e-02 -4.92242239e-02  8.46319553e-03  6.94449246e-02\n",
      "  -3.53503898e-02 -6.52615540e-03 -4.77050198e-03 -4.04816493e-02\n",
      "  -1.69468287e-03  7.38701131e-03  5.01753157e-03 -1.67906471e-02\n",
      "  -2.27724295e-02 -1.08607356e-02  1.73270365e-03 -1.13555188e-33\n",
      "   4.16657515e-02 -6.71132561e-03 -3.29373702e-02 -8.09395860e-04\n",
      "   4.74926867e-02 -6.09468622e-03 -1.86631214e-02  5.82260825e-02\n",
      "   5.56988567e-02  2.21692156e-02  2.29104608e-02 -9.39625800e-02\n",
      "   9.12088156e-02 -1.94142554e-02  3.19370478e-02  4.91957814e-02\n",
      "  -3.54474746e-02 -9.75534506e-03 -3.86300571e-02  5.50276861e-02\n",
      "   1.38178142e-02 -4.18025255e-02 -1.19361812e-02  6.32460266e-02\n",
      "  -5.27846292e-02  2.61742412e-03  7.59599498e-03 -1.78178716e-02\n",
      "   3.28848958e-02 -1.81468334e-02 -6.00735620e-02  4.70303521e-02\n",
      "   4.99378219e-02  4.90524527e-03  4.94604837e-03 -1.66598205e-02\n",
      "   5.85962199e-02 -6.30208291e-03 -8.25334638e-02  2.20474638e-02\n",
      "  -2.83477493e-02  5.98643869e-02 -2.12858319e-02  2.51902808e-02\n",
      "  -3.07332817e-02  1.56769138e-02  3.30958253e-04 -3.13469656e-02\n",
      "  -2.07275823e-02  4.75096442e-02 -3.93359698e-02  4.61206399e-02\n",
      "   6.93621337e-02 -5.92864975e-02 -5.42468019e-02  4.90797497e-02\n",
      "   3.69592309e-02  8.90880376e-02  5.04656695e-02 -4.99104820e-02\n",
      "  -1.88181177e-02  2.90971603e-02 -1.23187704e-02  5.40360324e-02\n",
      "   1.10064000e-02  3.27153830e-03  3.76488566e-02  4.15830314e-02\n",
      "  -6.54238313e-02 -8.10987782e-03  5.77538349e-02  8.81883278e-02\n",
      "   3.19964215e-02 -5.33880964e-02 -8.27143192e-02 -3.42696123e-02\n",
      "  -5.04549369e-02 -4.46888953e-02 -3.09453066e-03 -2.96018403e-02\n",
      "   5.52428886e-02 -2.08317339e-02  1.40080273e-01  2.38653347e-02\n",
      "   2.49362458e-02 -7.66947791e-02  2.22556647e-02  2.89010373e-03\n",
      "   3.02268621e-02 -1.19750155e-02 -7.51092657e-02  3.61550413e-02\n",
      "   2.76601389e-02  2.28974260e-02  2.51950398e-02  3.15949969e-34\n",
      "  -4.29029688e-02  5.01904935e-02 -8.78953189e-02 -1.39302649e-02\n",
      "   6.40139431e-02 -9.68718156e-02 -4.89944443e-02  1.12768516e-01\n",
      "   3.77434827e-02 -9.50637385e-02  5.63065708e-03 -4.39105928e-02\n",
      "  -5.58926314e-02  4.30226289e-02  6.26839027e-02 -8.78707618e-02\n",
      "  -5.03315777e-02 -2.42091566e-02 -3.91196981e-02 -2.44722944e-02\n",
      "   2.24069227e-02 -2.11804677e-02  1.77792069e-02 -5.13775274e-02\n",
      "  -2.79147252e-02  7.58298999e-03  1.03563435e-01  1.14783168e-01\n",
      "   3.79349999e-02  4.23236340e-02  9.46048573e-02  4.41440903e-02\n",
      "   3.60557400e-02  6.30379394e-02 -5.42978570e-02 -3.97843402e-03\n",
      "   2.64972951e-02  1.09718598e-01 -2.84271967e-02 -1.01054430e-01\n",
      "  -2.58495715e-02  6.14832826e-02 -3.96495052e-02 -5.57864867e-02\n",
      "   5.89874610e-02 -3.43424864e-02  1.07966643e-02 -1.20547883e-01\n",
      "  -6.56386325e-03 -5.95179424e-02 -1.02218062e-01 -7.23021552e-02\n",
      "   3.11467610e-02  1.13447972e-01  1.78073123e-02 -4.79169153e-02\n",
      "   1.19802922e-01 -5.15178218e-02  6.83583617e-02 -1.00469783e-01\n",
      "  -3.58354338e-02  2.15718690e-02 -4.03791331e-02  2.38037482e-02\n",
      "   5.74770197e-02 -2.40963744e-03  5.21270093e-04  3.96416523e-03\n",
      "  -2.04333123e-02  4.73534726e-02  4.01106253e-02  2.24915501e-02\n",
      "   3.05843055e-02  8.51660520e-02 -1.13199570e-03 -1.23608736e-02\n",
      "   8.02192744e-03  4.39537130e-02 -6.40128553e-03  3.08676232e-02\n",
      "   3.11963558e-02 -1.10036135e-01  3.88843752e-02  3.87772210e-02\n",
      "   1.27219642e-02  5.98301254e-02  2.21750978e-02 -1.00444155e-02\n",
      "  -4.66663688e-02 -3.14352550e-02  1.19522279e-02 -3.59565243e-02\n",
      "  -6.53833970e-02  1.07842395e-02  5.83888963e-04 -1.63399552e-08\n",
      "  -1.18449517e-01  1.97998621e-03 -4.06513549e-02  6.45545870e-02\n",
      "  -4.39993776e-02  9.93668362e-02  3.94941345e-02 -8.15383568e-02\n",
      "  -1.26063749e-02 -6.98361620e-02  4.90370486e-03 -1.61810778e-02\n",
      "   7.21024498e-02 -3.07352981e-03 -4.76897769e-02 -4.96113077e-02\n",
      "  -9.64692533e-02 -4.51998494e-04 -2.48141419e-02  5.47680110e-02\n",
      "  -9.61038321e-02  1.05093084e-02 -1.15001602e-02 -3.16922031e-02\n",
      "  -5.72544411e-02  1.17896432e-02 -1.64127350e-02 -2.80874949e-02\n",
      "   1.20544285e-02 -2.70523466e-02 -1.58757851e-01  1.77127570e-02\n",
      "  -5.76936174e-03 -4.54908982e-02 -3.57197672e-02 -3.95463221e-02\n",
      "  -3.15282098e-03 -3.29766572e-02 -7.51944110e-02  3.37461196e-02\n",
      "  -4.70714271e-02 -1.93001702e-02  3.61386761e-02 -5.77405170e-02\n",
      "   1.67312950e-01  3.42373438e-02 -5.07015996e-02 -1.63091235e-02\n",
      "   5.25814388e-03  3.26943249e-02  1.07404506e-02 -1.05227083e-02\n",
      "  -5.23335673e-02  6.97102547e-02  1.28452969e-03 -2.41981409e-02\n",
      "   2.62830686e-02 -2.39510337e-04 -2.92263255e-02 -4.21217456e-03\n",
      "   2.69738510e-02 -3.88876647e-02  1.22095020e-02  1.66820586e-02]]\n",
      "(384,)\n"
     ]
    }
   ],
   "source": [
    "embedding_model = \"all-MiniLM-L6-v2\"\n",
    "text_embeddings = embed_text(texts, embedding_model)\n",
    "print(text_embeddings[:2])\n",
    "print(text_embeddings[0].shape)"
   ]
  },
  {
   "cell_type": "code",
   "execution_count": 8,
   "id": "4ca29769",
   "metadata": {},
   "outputs": [
    {
     "data": {
      "text/plain": [
       "384"
      ]
     },
     "execution_count": 8,
     "metadata": {},
     "output_type": "execute_result"
    }
   ],
   "source": [
    "text_embeddings.shape[1]"
   ]
  },
  {
   "cell_type": "code",
   "execution_count": 9,
   "id": "ce47e3ee",
   "metadata": {},
   "outputs": [
    {
     "name": "stderr",
     "output_type": "stream",
     "text": [
      "I0000 00:00:1745811825.795894  292590 gpu_device.cc:2019] Created device /job:localhost/replica:0/task:0/device:GPU:0 with 5315 MB memory:  -> device: 0, name: NVIDIA GeForce RTX 4060 Laptop GPU, pci bus id: 0000:01:00.0, compute capability: 8.9\n"
     ]
    }
   ],
   "source": [
    "input_dim = text_embeddings.shape[1]\n",
    "model_dnn = Sequential([\n",
    "        Input(shape=(input_dim,)),\n",
    "        Dense(512, activation='relu'),\n",
    "        BatchNormalization(),\n",
    "        Dropout(0.4),\n",
    "        Dense(256, activation='relu'),\n",
    "        BatchNormalization(),\n",
    "        Dropout(0.3),\n",
    "        Dense(128, activation='relu'),\n",
    "        BatchNormalization(),\n",
    "        Dropout(0.2),\n",
    "        Dense(64, activation='relu'),\n",
    "        Dense(1, activation='sigmoid')\n",
    "    ])"
   ]
  },
  {
   "cell_type": "markdown",
   "id": "c3c298b8",
   "metadata": {},
   "source": [
    "### Business Model"
   ]
  },
  {
   "cell_type": "code",
   "execution_count": 10,
   "id": "3f5cb432",
   "metadata": {},
   "outputs": [],
   "source": [
    "model_path = '/home/ubuntu/SentimentProject/DA5402_Project/models/cat_classification/dense_nn_Business/dense_nn.keras'\n",
    "model = tf.keras.models.load_model(model_path)"
   ]
  },
  {
   "cell_type": "code",
   "execution_count": 11,
   "id": "513479d4",
   "metadata": {},
   "outputs": [
    {
     "name": "stderr",
     "output_type": "stream",
     "text": [
      "WARNING: All log messages before absl::InitializeLog() is called are written to STDERR\n",
      "I0000 00:00:1745811839.413097  294163 service.cc:152] XLA service 0x7fdfcc015fa0 initialized for platform CUDA (this does not guarantee that XLA will be used). Devices:\n",
      "I0000 00:00:1745811839.415021  294163 service.cc:160]   StreamExecutor device (0): NVIDIA GeForce RTX 4060 Laptop GPU, Compute Capability 8.9\n",
      "2025-04-28 03:43:59.590075: I tensorflow/compiler/mlir/tensorflow/utils/dump_mlir_util.cc:269] disabling MLIR crash reproducer, set env var `MLIR_CRASH_REPRODUCER_DIRECTORY` to enable.\n",
      "I0000 00:00:1745811839.846984  294163 cuda_dnn.cc:529] Loaded cuDNN version 90501\n"
     ]
    },
    {
     "name": "stdout",
     "output_type": "stream",
     "text": [
      "\u001b[1m  21/6548\u001b[0m \u001b[37m━━━━━━━━━━━━━━━━━━━━\u001b[0m \u001b[1m33s\u001b[0m 5ms/step  "
     ]
    },
    {
     "name": "stderr",
     "output_type": "stream",
     "text": [
      "I0000 00:00:1745811840.499713  294163 device_compiler.h:188] Compiled cluster using XLA!  This line is logged at most once for the lifetime of the process.\n"
     ]
    },
    {
     "name": "stdout",
     "output_type": "stream",
     "text": [
      "\u001b[1m6548/6548\u001b[0m \u001b[32m━━━━━━━━━━━━━━━━━━━━\u001b[0m\u001b[37m\u001b[0m \u001b[1m25s\u001b[0m 4ms/step\n"
     ]
    }
   ],
   "source": [
    "predictions = model.predict(text_embeddings)"
   ]
  },
  {
   "cell_type": "code",
   "execution_count": 12,
   "id": "86da64dd",
   "metadata": {},
   "outputs": [],
   "source": [
    "df['BUSINESS'] = predictions"
   ]
  },
  {
   "cell_type": "code",
   "execution_count": 13,
   "id": "35fc2e09",
   "metadata": {},
   "outputs": [
    {
     "data": {
      "text/plain": [
       "array([[0.3124554 ],\n",
       "       [0.5566388 ],\n",
       "       [0.00411345],\n",
       "       [0.00488206],\n",
       "       [0.6222352 ]], dtype=float32)"
      ]
     },
     "execution_count": 13,
     "metadata": {},
     "output_type": "execute_result"
    }
   ],
   "source": [
    "predictions[:5]"
   ]
  },
  {
   "cell_type": "code",
   "execution_count": null,
   "id": "7c2bca12",
   "metadata": {},
   "outputs": [],
   "source": []
  },
  {
   "cell_type": "markdown",
   "id": "c88c2779",
   "metadata": {},
   "source": [
    "### CRIME Model"
   ]
  },
  {
   "cell_type": "code",
   "execution_count": 14,
   "id": "526c6aa7",
   "metadata": {},
   "outputs": [],
   "source": [
    "model_path = '/home/ubuntu/SentimentProject/DA5402_Project/models/cat_classification/dense_nn_CRIME/dense_nn.keras'\n",
    "model = tf.keras.models.load_model(model_path)"
   ]
  },
  {
   "cell_type": "code",
   "execution_count": 15,
   "id": "3b68dd19",
   "metadata": {},
   "outputs": [
    {
     "name": "stdout",
     "output_type": "stream",
     "text": [
      "\u001b[1m6548/6548\u001b[0m \u001b[32m━━━━━━━━━━━━━━━━━━━━\u001b[0m\u001b[37m\u001b[0m \u001b[1m21s\u001b[0m 3ms/step\n"
     ]
    }
   ],
   "source": [
    "predictions = model.predict(text_embeddings)"
   ]
  },
  {
   "cell_type": "code",
   "execution_count": 16,
   "id": "73ee90a9",
   "metadata": {},
   "outputs": [],
   "source": [
    "df['CRIME'] = predictions"
   ]
  },
  {
   "cell_type": "code",
   "execution_count": 17,
   "id": "5cd01a14",
   "metadata": {},
   "outputs": [
    {
     "data": {
      "text/plain": [
       "array([[0.00436825],\n",
       "       [0.761155  ],\n",
       "       [0.00456217],\n",
       "       [0.01644285],\n",
       "       [0.6693015 ]], dtype=float32)"
      ]
     },
     "execution_count": 17,
     "metadata": {},
     "output_type": "execute_result"
    }
   ],
   "source": [
    "predictions[:5]"
   ]
  },
  {
   "cell_type": "code",
   "execution_count": null,
   "id": "533367c3",
   "metadata": {},
   "outputs": [],
   "source": []
  },
  {
   "cell_type": "markdown",
   "id": "1d6444de",
   "metadata": {},
   "source": [
    "### Entertainment Model"
   ]
  },
  {
   "cell_type": "code",
   "execution_count": 18,
   "id": "e4c0b5ae",
   "metadata": {},
   "outputs": [],
   "source": [
    "model_path = '/home/ubuntu/SentimentProject/DA5402_Project/models/cat_classification/dense_nn_ENTERTAINMENT/dense_nn.keras'\n",
    "model = tf.keras.models.load_model(model_path)"
   ]
  },
  {
   "cell_type": "code",
   "execution_count": 19,
   "id": "21147be0",
   "metadata": {},
   "outputs": [
    {
     "name": "stdout",
     "output_type": "stream",
     "text": [
      "\u001b[1m6548/6548\u001b[0m \u001b[32m━━━━━━━━━━━━━━━━━━━━\u001b[0m\u001b[37m\u001b[0m \u001b[1m27s\u001b[0m 4ms/step\n"
     ]
    }
   ],
   "source": [
    "predictions = model.predict(text_embeddings)"
   ]
  },
  {
   "cell_type": "code",
   "execution_count": 20,
   "id": "802a98c2",
   "metadata": {},
   "outputs": [],
   "source": [
    "df['ENTERTAINMENT'] = predictions"
   ]
  },
  {
   "cell_type": "code",
   "execution_count": 21,
   "id": "37506451",
   "metadata": {},
   "outputs": [
    {
     "data": {
      "text/plain": [
       "array([[0.00099692],\n",
       "       [0.02820886],\n",
       "       [0.05187636],\n",
       "       [0.00626864],\n",
       "       [0.07781427]], dtype=float32)"
      ]
     },
     "execution_count": 21,
     "metadata": {},
     "output_type": "execute_result"
    }
   ],
   "source": [
    "predictions[:5]"
   ]
  },
  {
   "cell_type": "code",
   "execution_count": null,
   "id": "bff67f97",
   "metadata": {},
   "outputs": [],
   "source": []
  },
  {
   "cell_type": "markdown",
   "id": "46d455d2",
   "metadata": {},
   "source": [
    "### POLITICS Model"
   ]
  },
  {
   "cell_type": "code",
   "execution_count": 22,
   "id": "9332d76b",
   "metadata": {},
   "outputs": [],
   "source": [
    "model_path = '/home/ubuntu/SentimentProject/DA5402_Project/models/cat_classification/dense_nn_POLITICS/dense_nn.keras'\n",
    "model = tf.keras.models.load_model(model_path)"
   ]
  },
  {
   "cell_type": "code",
   "execution_count": 23,
   "id": "b931403e",
   "metadata": {},
   "outputs": [
    {
     "name": "stdout",
     "output_type": "stream",
     "text": [
      "\u001b[1m6548/6548\u001b[0m \u001b[32m━━━━━━━━━━━━━━━━━━━━\u001b[0m\u001b[37m\u001b[0m \u001b[1m23s\u001b[0m 3ms/step\n"
     ]
    }
   ],
   "source": [
    "predictions = model.predict(text_embeddings)"
   ]
  },
  {
   "cell_type": "code",
   "execution_count": 24,
   "id": "980bde60",
   "metadata": {},
   "outputs": [],
   "source": [
    "df['POLITICS'] = predictions"
   ]
  },
  {
   "cell_type": "code",
   "execution_count": 25,
   "id": "592c0c91",
   "metadata": {},
   "outputs": [
    {
     "data": {
      "text/plain": [
       "array([[0.08988536],\n",
       "       [0.01738927],\n",
       "       [0.02629746],\n",
       "       [0.00242779],\n",
       "       [0.11056314]], dtype=float32)"
      ]
     },
     "execution_count": 25,
     "metadata": {},
     "output_type": "execute_result"
    }
   ],
   "source": [
    "predictions[:5]"
   ]
  },
  {
   "cell_type": "code",
   "execution_count": null,
   "id": "b3f543b8",
   "metadata": {},
   "outputs": [],
   "source": []
  },
  {
   "cell_type": "markdown",
   "id": "23c5e94e",
   "metadata": {},
   "source": [
    "### SPORTS Model"
   ]
  },
  {
   "cell_type": "code",
   "execution_count": 26,
   "id": "0109c293",
   "metadata": {},
   "outputs": [],
   "source": [
    "model_path = '/home/ubuntu/SentimentProject/DA5402_Project/models/cat_classification/dense_nn_SPORTS/dense_nn.keras'\n",
    "model = tf.keras.models.load_model(model_path)"
   ]
  },
  {
   "cell_type": "code",
   "execution_count": 27,
   "id": "bc65f761",
   "metadata": {},
   "outputs": [
    {
     "name": "stdout",
     "output_type": "stream",
     "text": [
      "\u001b[1m6548/6548\u001b[0m \u001b[32m━━━━━━━━━━━━━━━━━━━━\u001b[0m\u001b[37m\u001b[0m \u001b[1m28s\u001b[0m 4ms/step\n"
     ]
    }
   ],
   "source": [
    "predictions = model.predict(text_embeddings)"
   ]
  },
  {
   "cell_type": "code",
   "execution_count": 28,
   "id": "3ffab06f",
   "metadata": {},
   "outputs": [],
   "source": [
    "df['SPORTS'] = predictions"
   ]
  },
  {
   "cell_type": "code",
   "execution_count": 29,
   "id": "7bb7c525",
   "metadata": {},
   "outputs": [
    {
     "data": {
      "text/plain": [
       "array([[0.0043285 ],\n",
       "       [0.03904956],\n",
       "       [0.00050028],\n",
       "       [0.03876851],\n",
       "       [0.00134997]], dtype=float32)"
      ]
     },
     "execution_count": 29,
     "metadata": {},
     "output_type": "execute_result"
    }
   ],
   "source": [
    "predictions[:5]"
   ]
  },
  {
   "cell_type": "code",
   "execution_count": null,
   "id": "3f5e44c6",
   "metadata": {},
   "outputs": [],
   "source": []
  },
  {
   "cell_type": "markdown",
   "id": "251c7225",
   "metadata": {},
   "source": [
    "### WORLD_NEWS Model"
   ]
  },
  {
   "cell_type": "code",
   "execution_count": 30,
   "id": "d28f55c6",
   "metadata": {},
   "outputs": [],
   "source": [
    "model_path = '/home/ubuntu/SentimentProject/DA5402_Project/models/cat_classification/dense_nn_WORLD_NEWS/dense_nn.keras'\n",
    "model = tf.keras.models.load_model(model_path)"
   ]
  },
  {
   "cell_type": "code",
   "execution_count": 31,
   "id": "f7e1d842",
   "metadata": {},
   "outputs": [
    {
     "name": "stdout",
     "output_type": "stream",
     "text": [
      "\u001b[1m6548/6548\u001b[0m \u001b[32m━━━━━━━━━━━━━━━━━━━━\u001b[0m\u001b[37m\u001b[0m \u001b[1m22s\u001b[0m 3ms/step\n"
     ]
    }
   ],
   "source": [
    "predictions = model.predict(text_embeddings)"
   ]
  },
  {
   "cell_type": "code",
   "execution_count": 32,
   "id": "52c7eaaf",
   "metadata": {},
   "outputs": [],
   "source": [
    "df['WORLD_NEWS'] = predictions"
   ]
  },
  {
   "cell_type": "code",
   "execution_count": 33,
   "id": "0275c24a",
   "metadata": {},
   "outputs": [
    {
     "data": {
      "text/plain": [
       "array([[6.0041660e-01],\n",
       "       [4.8073571e-02],\n",
       "       [1.9451600e-02],\n",
       "       [1.6646009e-02],\n",
       "       [3.9424869e-04]], dtype=float32)"
      ]
     },
     "execution_count": 33,
     "metadata": {},
     "output_type": "execute_result"
    }
   ],
   "source": [
    "predictions[:5]"
   ]
  },
  {
   "cell_type": "code",
   "execution_count": null,
   "id": "76d3dedf",
   "metadata": {},
   "outputs": [],
   "source": []
  },
  {
   "cell_type": "markdown",
   "id": "be396ce3",
   "metadata": {},
   "source": [
    "### EDUCATION Model"
   ]
  },
  {
   "cell_type": "code",
   "execution_count": 34,
   "id": "aea9cfa5",
   "metadata": {},
   "outputs": [],
   "source": [
    "model_path = '/home/ubuntu/SentimentProject/DA5402_Project/models/cat_classification/logistic_regression_EDUCATION/logistic_regression.pkl'\n",
    "model = joblib.load(model_path)"
   ]
  },
  {
   "cell_type": "code",
   "execution_count": 35,
   "id": "dd23a9a2",
   "metadata": {},
   "outputs": [],
   "source": [
    "predictions = model.predict_proba(text_embeddings)"
   ]
  },
  {
   "cell_type": "code",
   "execution_count": 36,
   "id": "ca1216f2",
   "metadata": {},
   "outputs": [],
   "source": [
    "df['EDUCATION'] = predictions[:,1]"
   ]
  },
  {
   "cell_type": "code",
   "execution_count": 37,
   "id": "684aaf73",
   "metadata": {},
   "outputs": [
    {
     "data": {
      "text/plain": [
       "array([[0.94068039, 0.05931961],\n",
       "       [0.94910392, 0.05089608],\n",
       "       [0.9843051 , 0.0156949 ],\n",
       "       [0.93959067, 0.06040933],\n",
       "       [0.99159476, 0.00840524]])"
      ]
     },
     "execution_count": 37,
     "metadata": {},
     "output_type": "execute_result"
    }
   ],
   "source": [
    "predictions[:5]"
   ]
  },
  {
   "cell_type": "code",
   "execution_count": 38,
   "id": "73014e75",
   "metadata": {},
   "outputs": [
    {
     "data": {
      "text/html": [
       "<div>\n",
       "<style scoped>\n",
       "    .dataframe tbody tr th:only-of-type {\n",
       "        vertical-align: middle;\n",
       "    }\n",
       "\n",
       "    .dataframe tbody tr th {\n",
       "        vertical-align: top;\n",
       "    }\n",
       "\n",
       "    .dataframe thead th {\n",
       "        text-align: right;\n",
       "    }\n",
       "</style>\n",
       "<table border=\"1\" class=\"dataframe\">\n",
       "  <thead>\n",
       "    <tr style=\"text-align: right;\">\n",
       "      <th></th>\n",
       "      <th>headline</th>\n",
       "      <th>category</th>\n",
       "      <th>short_description</th>\n",
       "      <th>BUSINESS</th>\n",
       "      <th>CRIME</th>\n",
       "      <th>ENTERTAINMENT</th>\n",
       "      <th>POLITICS</th>\n",
       "      <th>SPORTS</th>\n",
       "      <th>WORLD_NEWS</th>\n",
       "      <th>EDUCATION</th>\n",
       "    </tr>\n",
       "  </thead>\n",
       "  <tbody>\n",
       "    <tr>\n",
       "      <th>0</th>\n",
       "      <td>Over 4 Million Americans Roll Up Sleeves For O...</td>\n",
       "      <td>U.S. NEWS</td>\n",
       "      <td>Health experts said it is too early to predict...</td>\n",
       "      <td>0.312455</td>\n",
       "      <td>0.004368</td>\n",
       "      <td>0.000997</td>\n",
       "      <td>0.089885</td>\n",
       "      <td>0.004329</td>\n",
       "      <td>0.600417</td>\n",
       "      <td>0.059320</td>\n",
       "    </tr>\n",
       "    <tr>\n",
       "      <th>1</th>\n",
       "      <td>American Airlines Flyer Charged, Banned For Li...</td>\n",
       "      <td>U.S. NEWS</td>\n",
       "      <td>He was subdued by passengers and crew when he ...</td>\n",
       "      <td>0.556639</td>\n",
       "      <td>0.761155</td>\n",
       "      <td>0.028209</td>\n",
       "      <td>0.017389</td>\n",
       "      <td>0.039050</td>\n",
       "      <td>0.048074</td>\n",
       "      <td>0.050896</td>\n",
       "    </tr>\n",
       "    <tr>\n",
       "      <th>2</th>\n",
       "      <td>23 Of The Funniest Tweets About Cats And Dogs ...</td>\n",
       "      <td>COMEDY</td>\n",
       "      <td>\"Until you have a dog you don't understand wha...</td>\n",
       "      <td>0.004113</td>\n",
       "      <td>0.004562</td>\n",
       "      <td>0.051876</td>\n",
       "      <td>0.026297</td>\n",
       "      <td>0.000500</td>\n",
       "      <td>0.019452</td>\n",
       "      <td>0.015695</td>\n",
       "    </tr>\n",
       "    <tr>\n",
       "      <th>3</th>\n",
       "      <td>The Funniest Tweets From Parents This Week (Se...</td>\n",
       "      <td>PARENTING</td>\n",
       "      <td>\"Accidentally put grown-up toothpaste on my to...</td>\n",
       "      <td>0.004882</td>\n",
       "      <td>0.016443</td>\n",
       "      <td>0.006269</td>\n",
       "      <td>0.002428</td>\n",
       "      <td>0.038769</td>\n",
       "      <td>0.016646</td>\n",
       "      <td>0.060409</td>\n",
       "    </tr>\n",
       "    <tr>\n",
       "      <th>4</th>\n",
       "      <td>Woman Who Called Cops On Black Bird-Watcher Lo...</td>\n",
       "      <td>U.S. NEWS</td>\n",
       "      <td>Amy Cooper accused investment firm Franklin Te...</td>\n",
       "      <td>0.622235</td>\n",
       "      <td>0.669302</td>\n",
       "      <td>0.077814</td>\n",
       "      <td>0.110563</td>\n",
       "      <td>0.001350</td>\n",
       "      <td>0.000394</td>\n",
       "      <td>0.008405</td>\n",
       "    </tr>\n",
       "  </tbody>\n",
       "</table>\n",
       "</div>"
      ],
      "text/plain": [
       "                                            headline   category  \\\n",
       "0  Over 4 Million Americans Roll Up Sleeves For O...  U.S. NEWS   \n",
       "1  American Airlines Flyer Charged, Banned For Li...  U.S. NEWS   \n",
       "2  23 Of The Funniest Tweets About Cats And Dogs ...     COMEDY   \n",
       "3  The Funniest Tweets From Parents This Week (Se...  PARENTING   \n",
       "4  Woman Who Called Cops On Black Bird-Watcher Lo...  U.S. NEWS   \n",
       "\n",
       "                                   short_description  BUSINESS     CRIME  \\\n",
       "0  Health experts said it is too early to predict...  0.312455  0.004368   \n",
       "1  He was subdued by passengers and crew when he ...  0.556639  0.761155   \n",
       "2  \"Until you have a dog you don't understand wha...  0.004113  0.004562   \n",
       "3  \"Accidentally put grown-up toothpaste on my to...  0.004882  0.016443   \n",
       "4  Amy Cooper accused investment firm Franklin Te...  0.622235  0.669302   \n",
       "\n",
       "   ENTERTAINMENT  POLITICS    SPORTS  WORLD_NEWS  EDUCATION  \n",
       "0       0.000997  0.089885  0.004329    0.600417   0.059320  \n",
       "1       0.028209  0.017389  0.039050    0.048074   0.050896  \n",
       "2       0.051876  0.026297  0.000500    0.019452   0.015695  \n",
       "3       0.006269  0.002428  0.038769    0.016646   0.060409  \n",
       "4       0.077814  0.110563  0.001350    0.000394   0.008405  "
      ]
     },
     "execution_count": 38,
     "metadata": {},
     "output_type": "execute_result"
    }
   ],
   "source": [
    "df.head()"
   ]
  },
  {
   "cell_type": "code",
   "execution_count": 39,
   "id": "3f030694",
   "metadata": {},
   "outputs": [
    {
     "data": {
      "text/plain": [
       "0         0.059320\n",
       "1         0.050896\n",
       "2         0.015695\n",
       "3         0.060409\n",
       "4         0.008405\n",
       "            ...   \n",
       "209522    0.034450\n",
       "209523    0.042569\n",
       "209524    0.030144\n",
       "209525    0.010618\n",
       "209526    0.029892\n",
       "Name: EDUCATION, Length: 209527, dtype: float64"
      ]
     },
     "execution_count": 39,
     "metadata": {},
     "output_type": "execute_result"
    }
   ],
   "source": [
    "df.EDUCATION"
   ]
  },
  {
   "cell_type": "code",
   "execution_count": 40,
   "id": "1f58df8a",
   "metadata": {},
   "outputs": [],
   "source": [
    "df.to_csv('/home/ubuntu/SentimentProject/DA5402_Project/data/category_classification/category_csv/data_new.csv')"
   ]
  },
  {
   "cell_type": "code",
   "execution_count": null,
   "id": "39962c30",
   "metadata": {},
   "outputs": [],
   "source": []
  }
 ],
 "metadata": {
  "kernelspec": {
   "display_name": "mlops",
   "language": "python",
   "name": "python3"
  },
  "language_info": {
   "codemirror_mode": {
    "name": "ipython",
    "version": 3
   },
   "file_extension": ".py",
   "mimetype": "text/x-python",
   "name": "python",
   "nbconvert_exporter": "python",
   "pygments_lexer": "ipython3",
   "version": "3.12.9"
  }
 },
 "nbformat": 4,
 "nbformat_minor": 5
}
